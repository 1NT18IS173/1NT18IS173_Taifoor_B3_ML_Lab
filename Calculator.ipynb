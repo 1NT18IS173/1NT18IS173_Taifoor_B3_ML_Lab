{
 "cells": [
  {
   "cell_type": "code",
   "execution_count": 1,
   "metadata": {},
   "outputs": [
    {
     "data": {
      "text/plain": [
       "15"
      ]
     },
     "execution_count": 1,
     "metadata": {},
     "output_type": "execute_result"
    }
   ],
   "source": [
    "#Sum\n",
    "ls= {1,2,3}\n",
    "ls1={2,3,4}\n",
    "sum=0\n",
    "for i in ls:\n",
    "    sum+=i\n",
    "for i in ls1:\n",
    "    sum+=i\n",
    "sum"
   ]
  },
  {
   "cell_type": "code",
   "execution_count": 2,
   "metadata": {},
   "outputs": [
    {
     "name": "stdout",
     "output_type": "stream",
     "text": [
      "Select option\n",
      "1.Add\n",
      "2.Subtract\n",
      "3.MUltiply\n",
      "4.Divide\n",
      "5.Mod\n",
      "Enter choice3\n",
      "Enter first number23\n",
      "Enter second number22\n",
      "506\n"
     ]
    }
   ],
   "source": [
    "#Calculator\n",
    "def add(x,y):\n",
    "    return x+y\n",
    "def sub(x,y):\n",
    "    return x-y\n",
    "def mul(x,y):\n",
    "    return x*y\n",
    "def div(x,y):\n",
    "    return x/y\n",
    "def mod(x,y):\n",
    "    return x%y\n",
    "\n",
    "\n",
    "print(\"Select option\")\n",
    "print(\"1.Add\")\n",
    "print(\"2.Subtract\")\n",
    "print(\"3.MUltiply\")\n",
    "print(\"4.Divide\")\n",
    "print(\"5.Mod\")\n",
    "\n",
    "op=input(\"Enter choice\")\n",
    "num1=int(input(\"Enter first number\"))\n",
    "num2=int(input(\"Enter second number\"))\n",
    "\n",
    "if(op=='1'):\n",
    "    print(add(num1,num2))\n",
    "elif(op=='2'):\n",
    "    print(sub(num1,num2))\n",
    "elif(op=='3'):\n",
    "    print(mul(num1,num2))\n",
    "elif(op=='4'):\n",
    "    print(div(num1,num2))\n",
    "elif(op=='5'):\n",
    "    print(mod(num1,num2))\n",
    "else:\n",
    "    print(\"Invalid Operation\")\n"
   ]
  },
  {
   "cell_type": "code",
   "execution_count": 3,
   "metadata": {},
   "outputs": [
    {
     "data": {
      "text/plain": [
       "5.5"
      ]
     },
     "execution_count": 3,
     "metadata": {},
     "output_type": "execute_result"
    }
   ],
   "source": [
    "data = [1,2,3,4,5,6,7,8,9,10]\n",
    "mean=0\n",
    "median=0\n",
    "mode=0\n",
    "sum1=0\n",
    "count=0\n",
    "\n",
    "for i in data:\n",
    "    sum1+=i\n",
    "    count+=1\n",
    "sum1/count"
   ]
  },
  {
   "cell_type": "code",
   "execution_count": null,
   "metadata": {},
   "outputs": [],
   "source": []
  }
 ],
 "metadata": {
  "kernelspec": {
   "display_name": "Python 3",
   "language": "python",
   "name": "python3"
  },
  "language_info": {
   "codemirror_mode": {
    "name": "ipython",
    "version": 3
   },
   "file_extension": ".py",
   "mimetype": "text/x-python",
   "name": "python",
   "nbconvert_exporter": "python",
   "pygments_lexer": "ipython3",
   "version": "3.6.9"
  }
 },
 "nbformat": 4,
 "nbformat_minor": 2
}
