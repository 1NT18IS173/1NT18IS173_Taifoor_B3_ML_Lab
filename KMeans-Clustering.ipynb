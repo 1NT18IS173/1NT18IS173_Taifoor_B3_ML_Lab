{
 "cells": [
  {
   "cell_type": "code",
   "execution_count": 1,
   "metadata": {},
   "outputs": [],
   "source": [
    "import math\n",
    "import numpy as np"
   ]
  },
  {
   "cell_type": "code",
   "execution_count": 2,
   "metadata": {},
   "outputs": [],
   "source": [
    "points = np.array([[5.9,3.2],[4.6,2.9],[6.2,2.8],[4.7,3.2],[5.5,4.2],[5.0,3.0],[4.9,3.1],[6.7,3.1],[5.1,3.8],[6.0,3.0]])\n",
    "\n",
    "x1,y1=6.2,3.2\n",
    "x2,y2=6.6,3.7\n",
    "x3,y3=6.5,3.0\n",
    "\n",
    "cluster1=[]\n",
    "cluster2=[]\n",
    "cluster3=[]"
   ]
  },
  {
   "cell_type": "markdown",
   "metadata": {},
   "source": [
    "## Eucledian Distance"
   ]
  },
  {
   "cell_type": "code",
   "execution_count": 3,
   "metadata": {},
   "outputs": [
    {
     "name": "stdout",
     "output_type": "stream",
     "text": [
      "Cluster 1: [[5.9, 3.2], [4.6, 2.9], [4.7, 3.2], [5.0, 3.0], [4.9, 3.1], [5.1, 3.8], [6.0, 3.0]]\n",
      "Cluster 2: [[5.5, 4.2]]\n",
      "Cluster 3: [[6.2, 2.8], [6.7, 3.1]]\n"
     ]
    }
   ],
   "source": [
    "def eucDist(a,b):\n",
    "    d1=math.sqrt((a-x1)**2+(b-y1)**2)\n",
    "    d2=math.sqrt((a-x2)**2+(b-y2)**2)\n",
    "    d3=math.sqrt((a-x3)**2+(b-y3)**2)\n",
    "    \n",
    "    minDistance = min(d1,d2,d3)\n",
    "    \n",
    "    if minDistance==d1:\n",
    "        cluster1.append([a,b])\n",
    "    elif minDistance==d2:\n",
    "        cluster2.append([a,b])\n",
    "    else:\n",
    "        cluster3.append([a,b])\n",
    "\n",
    "for i,j in points:\n",
    "    eucDist(i,j)\n",
    "\n",
    "print('Cluster 1:',cluster1)\n",
    "print('Cluster 2:',cluster2)\n",
    "print('Cluster 3:',cluster3)"
   ]
  },
  {
   "cell_type": "markdown",
   "metadata": {},
   "source": [
    "## Centroid for cluster1 after 1st iteration"
   ]
  },
  {
   "cell_type": "code",
   "execution_count": 4,
   "metadata": {},
   "outputs": [
    {
     "name": "stdout",
     "output_type": "stream",
     "text": [
      "Centroid for cluster1 after 1st iteration:  [5.171, 3.171]\n"
     ]
    }
   ],
   "source": [
    "def findcentroid(cluster):\n",
    "    sumx=0\n",
    "    sumy=0\n",
    "\n",
    "    for i,j in cluster:\n",
    "        sumx= sumx+i\n",
    "        sumy=sumy+j\n",
    "\n",
    "    centX=round(sumx/ len(cluster),3)\n",
    "    centY=round(sumy/ len(cluster),3)\n",
    "    cent=[centX,centY]\n",
    "    return cent\n",
    "\n",
    "cent1=findcentroid(cluster1)\n",
    "cent2=findcentroid(cluster2)\n",
    "cent3=findcentroid(cluster3)\n",
    "\n",
    "print('Centroid for cluster1 after 1st iteration: ',cent1)"
   ]
  },
  {
   "cell_type": "markdown",
   "metadata": {},
   "source": [
    "## Centroid for cluster2 after 2nd iteration"
   ]
  },
  {
   "cell_type": "code",
   "execution_count": 5,
   "metadata": {},
   "outputs": [
    {
     "name": "stdout",
     "output_type": "stream",
     "text": [
      "Cluster1:  [[4.6, 2.9], [4.7, 3.2], [5.0, 3.0], [4.9, 3.1]]\n",
      "Cluster2:  [[5.5, 4.2], [5.1, 3.8]]\n",
      "Cluster3:  [[5.9, 3.2], [6.2, 2.8], [6.7, 3.1], [6.0, 3.0]]\n",
      "\n",
      "Centroid for cluster2 after 2nd iteration:  [5.3, 4.0]\n"
     ]
    }
   ],
   "source": [
    "cluster1=[]\n",
    "cluster2=[]\n",
    "cluster3=[]\n",
    "\n",
    "x1,y1=cent1[0],cent1[1]\n",
    "x2,y2=cent2[0],cent2[1]\n",
    "x3,y3=cent3[0],cent3[1]\n",
    "\n",
    "for i,j in points:\n",
    "    eucDist(i,j)\n",
    "\n",
    "print('Cluster1: ',cluster1)\n",
    "print('Cluster2: ',cluster2)\n",
    "print('Cluster3: ',cluster3)\n",
    "\n",
    "cent1=findcentroid(cluster1)\n",
    "cent2=findcentroid(cluster2)\n",
    "cent3=findcentroid(cluster3)\n",
    "\n",
    "print('\\nCentroid for cluster2 after 2nd iteration: ',cent2)"
   ]
  },
  {
   "cell_type": "markdown",
   "metadata": {},
   "source": [
    "## Iteration 3 and above"
   ]
  },
  {
   "cell_type": "code",
   "execution_count": 6,
   "metadata": {},
   "outputs": [
    {
     "name": "stdout",
     "output_type": "stream",
     "text": [
      "\n",
      "Centroid for cluster3 after 3rd iteration:  [6.2, 3.025]\n"
     ]
    }
   ],
   "source": [
    "for i in range(50):\n",
    "    cluster1=[]\n",
    "    cluster2=[]\n",
    "    cluster3=[]\n",
    "\n",
    "    x1,y1=cent1[0],cent1[1]\n",
    "    x2,y2=cent2[0],cent2[1]\n",
    "    x3,y3=cent3[0],cent3[1]\n",
    "\n",
    "    for i,j in points:\n",
    "        eucDist(i,j)\n",
    "\n",
    "    cent1=findcentroid(cluster1)\n",
    "    cent2=findcentroid(cluster2)\n",
    "    cent3=findcentroid(cluster3)\n",
    "\n",
    "print('\\nCentroid for cluster3 after 3rd iteration: ',cent3)"
   ]
  },
  {
   "cell_type": "code",
   "execution_count": null,
   "metadata": {},
   "outputs": [],
   "source": []
  }
 ],
 "metadata": {
  "kernelspec": {
   "display_name": "Python 3",
   "language": "python",
   "name": "python3"
  },
  "language_info": {
   "codemirror_mode": {
    "name": "ipython",
    "version": 3
   },
   "file_extension": ".py",
   "mimetype": "text/x-python",
   "name": "python",
   "nbconvert_exporter": "python",
   "pygments_lexer": "ipython3",
   "version": "3.6.9"
  }
 },
 "nbformat": 4,
 "nbformat_minor": 2
}
